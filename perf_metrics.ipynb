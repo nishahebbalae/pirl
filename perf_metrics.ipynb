{
 "cells": [
  {
   "cell_type": "code",
   "execution_count": 9,
   "id": "e5eb0908-7d01-4889-a528-36a0ad0eb405",
   "metadata": {},
   "outputs": [
    {
     "name": "stdout",
     "output_type": "stream",
     "text": [
      "\n",
      "We want python scripts to measure server parameters and database performance parameters like \n",
      "memory utilization, cpu utilization, number of queries etc. \n",
      "All these are available in some place or other in a linux system and \n",
      "we want to collect all these detailed metrics and send it to another server through curl requests.\n",
      "\n"
     ]
    }
   ],
   "source": [
    "string = \"\"\"\n",
    "We want python scripts to measure server parameters and database performance parameters like \n",
    "memory utilization, cpu utilization, number of queries etc. \n",
    "All these are available in some place or other in a linux system and \n",
    "we want to collect all these detailed metrics and send it to another server through curl requests.\n",
    "\"\"\"\n",
    "print(string)"
   ]
  },
  {
   "cell_type": "code",
   "execution_count": null,
   "id": "1ec38319-4a53-44e4-a2ad-84a1d39d1dfa",
   "metadata": {},
   "outputs": [],
   "source": []
  },
  {
   "cell_type": "code",
   "execution_count": 74,
   "id": "63478e1b-e179-4cc2-b9eb-c84e60866c3c",
   "metadata": {},
   "outputs": [],
   "source": [
    "import jsonpickle\n",
    "import pickle \n",
    "\n",
    "class PerfData():\n",
    "\n",
    "    def __init__(self, a, b, c):\n",
    "        self.first = a\n",
    "        self.second = b\n",
    "        self.third = c\n",
    "\n",
    "    def __str__(self):\n",
    "        return 'first: {}, second: {}, third: {}'.format(self.first, self.second, self.third) \n",
    "\n",
    "    def serialize(self):\n",
    "        return jsonpickle.encode(self)\n",
    "\n",
    "    def deserialize(self, json_string):\n",
    "        return jsonpickle.decode(json_string)\n",
    "\n",
    "    def pickle(self):\n",
    "        return pickle.dumps(self) \n",
    "\n",
    "    def unpickle(self, data_string):\n",
    "        return pickle.loads(data_string) \n",
    "\n",
    "    def postData(self):\n",
    "        url = 'https://pythonexamples.org/'\n",
    "        payload = self.serialize()\n",
    "        headers = {'content-type': 'application/json', 'Accept-Charset': 'UTF-8'}\n",
    "        r = requests.post(url, data=payload, headers=headers)\n",
    "        return r.status_code\n"
   ]
  },
  {
   "cell_type": "code",
   "execution_count": 75,
   "id": "a8168114-b053-475b-9f93-c9bb131523cf",
   "metadata": {},
   "outputs": [
    {
     "name": "stdout",
     "output_type": "stream",
     "text": [
      "first: 1, second: 2, third: 3\n"
     ]
    }
   ],
   "source": [
    "p = PerfData(1,2,3)\n",
    "json = p.serialize()\n",
    "print(p.deserialize(json))"
   ]
  },
  {
   "cell_type": "code",
   "execution_count": 76,
   "id": "6e0ef6a4-4848-438d-bdc3-0ab6ca3993fc",
   "metadata": {},
   "outputs": [
    {
     "name": "stdout",
     "output_type": "stream",
     "text": [
      "first: 1, second: 2, third: 3\n"
     ]
    }
   ],
   "source": [
    "data_string = p.pickle()\n",
    "print(p.unpickle(data_string))"
   ]
  },
  {
   "cell_type": "code",
   "execution_count": 77,
   "id": "7b18d912-9435-4478-a887-de6ee420fcba",
   "metadata": {},
   "outputs": [
    {
     "name": "stdout",
     "output_type": "stream",
     "text": [
      "200\n"
     ]
    }
   ],
   "source": [
    "print(p.postData())"
   ]
  },
  {
   "cell_type": "code",
   "execution_count": null,
   "id": "d02cbcfd-8858-4d88-89e1-76cc69da3dec",
   "metadata": {},
   "outputs": [],
   "source": []
  }
 ],
 "metadata": {
  "kernelspec": {
   "display_name": "Python 3 (ipykernel)",
   "language": "python",
   "name": "python3"
  },
  "language_info": {
   "codemirror_mode": {
    "name": "ipython",
    "version": 3
   },
   "file_extension": ".py",
   "mimetype": "text/x-python",
   "name": "python",
   "nbconvert_exporter": "python",
   "pygments_lexer": "ipython3",
   "version": "3.8.19"
  }
 },
 "nbformat": 4,
 "nbformat_minor": 5
}
